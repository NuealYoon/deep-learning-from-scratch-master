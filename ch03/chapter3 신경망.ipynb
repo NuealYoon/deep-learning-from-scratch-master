{
 "cells": [
  {
   "cell_type": "markdown",
   "metadata": {},
   "source": [
    "# 신경망\n",
    "퍼셉트론은 네트워크 구조의 가중치 매개변수를 사람이 수동으로 정해주지만, 신경망은 가중치 개매변수를 데이터로부터 자동으로 학습한다.\n",
    "\n",
    "\n",
    "## 3.1 퍼셉트론에서 신경망으로\n",
    "\n",
    "### 3.1.1. 신경망의 예\n",
    "\n",
    "### 3.1.2. 펴셉트론 복습\n",
    "\n",
    "### 3.1.3. 활성화 함수의 등장\n",
    "\n",
    "<img src=\"img/fig 3-4.png\">\n",
    "\n",
    "## 3.2. 할성화 함수\n",
    "\n",
    "### 3.2.1. 시그모이드 함수\n",
    "\n",
    "<img src=\"img/e 3.6.png\">\n",
    "\n",
    "### 3.2.2. 계단 함수 구현하기\n",
    "\n",
    "### 3.2.3. 계단 함수의 그래프\n",
    "\n",
    "### 3.2.4. 시그모이드 함수 구현하기\n",
    "\n",
    "### 3.2.5. 시그모이드 함수와 계단 함수 비교\n",
    "\n",
    "### 3.2.6. 비선형 함수\n",
    "\n",
    "### 3.2.7. ReLU 함수\n",
    "\n",
    "## 3.3. 다차원 배열의 계산\n"
   ]
  }
 ],
 "metadata": {
  "kernelspec": {
   "display_name": "Python 3",
   "language": "python",
   "name": "python3"
  },
  "language_info": {
   "codemirror_mode": {
    "name": "ipython",
    "version": 3
   },
   "file_extension": ".py",
   "mimetype": "text/x-python",
   "name": "python",
   "nbconvert_exporter": "python",
   "pygments_lexer": "ipython3",
   "version": "3.7.6"
  }
 },
 "nbformat": 4,
 "nbformat_minor": 4
}
